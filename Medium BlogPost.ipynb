{
 "cells": [
  {
   "cell_type": "markdown",
   "metadata": {},
   "source": [
    "## Analyzing IMHE projection data"
   ]
  },
  {
   "cell_type": "markdown",
   "metadata": {},
   "source": [
    "## Business Understanding\n",
    "Given the massive news coverage there are delays in getting hydroxychloroquine (HCQ) to current patients so I decided to investigate if stockpiling is necessary given the new COVID-19 use case.\n",
    "\n",
    "1.What will the US hydroxychloroquine needs be? \n",
    "2.What is the supply? \n",
    "3.What will it cost?"
   ]
  },
  {
   "cell_type": "markdown",
   "metadata": {},
   "source": [
    "#import necessary libraries\n",
    "from datetime import datetime,timedelta\n",
    "import numpy as np # linear algebra\n",
    "import pandas as pd # data processing, CSV file I/O (e.g. pd.read_csv)\n",
    "import matplotlib.pyplot as plt # plot functionality\n",
    "import sys\n",
    "import os"
   ]
  },
  {
   "cell_type": "markdown",
   "metadata": {},
   "source": [
    "## Data Understanding"
   ]
  },
  {
   "cell_type": "markdown",
   "metadata": {},
   "source": [
    "Gather"
   ]
  },
  {
   "cell_type": "code",
   "execution_count": null,
   "metadata": {},
   "outputs": [],
   "source": [
    "# Importing IHME Data (downloaded from http://www.healthdata.org/covid/data-downloads) and converted to only contain US state data\n",
    "dirname=sys.path[0]\n",
    "files = [f for f in os.listdir('./') if os.path.isfile(f) and f.endswith('csv')]\n",
    "for filename in files:\n",
    "    if \"IHME_USA_Proj_Apr08.csv\"==filename:\n",
    "        print(os.path.join(dirname, filename))\n",
    "        pathname=os.path.join(dirname, filename)\n",
    "        df_proj=pd.read_csv(filename,parse_dates=['date'],infer_datetime_format=True)\n"
   ]
  },
  {
   "cell_type": "markdown",
   "metadata": {},
   "source": [
    "Assess"
   ]
  },
  {
   "cell_type": "code",
   "execution_count": null,
   "metadata": {},
   "outputs": [],
   "source": [
    "df_proj.describe()\n",
    "df_proj.columns"
   ]
  },
  {
   "cell_type": "markdown",
   "metadata": {},
   "source": [
    "## Data Preparation"
   ]
  },
  {
   "cell_type": "markdown",
   "metadata": {},
   "source": [
    "Clean\n",
    "Here we are going to clean our dataset. We are going to: \n",
    "1.Drop any unwanted columns \n",
    "2.Remove <0 i.e. ~1e-11 values caused by floating point import\n",
    "3.Check if any missing values"
   ]
  },
  {
   "cell_type": "code",
   "execution_count": 11,
   "metadata": {},
   "outputs": [
    {
     "ename": "NameError",
     "evalue": "name 'df_proj' is not defined",
     "output_type": "error",
     "traceback": [
      "\u001b[1;31m---------------------------------------------------------------------------\u001b[0m",
      "\u001b[1;31mNameError\u001b[0m                                 Traceback (most recent call last)",
      "\u001b[1;32m<ipython-input-11-b43dec655977>\u001b[0m in \u001b[0;36m<module>\u001b[1;34m\u001b[0m\n\u001b[0;32m      1\u001b[0m \u001b[0mdrop_columns\u001b[0m\u001b[1;33m=\u001b[0m\u001b[1;33m[\u001b[0m\u001b[1;34m'deaths_midlower'\u001b[0m\u001b[1;33m,\u001b[0m \u001b[1;34m'deaths_mean'\u001b[0m\u001b[1;33m,\u001b[0m\u001b[1;34m'deaths_lower'\u001b[0m\u001b[1;33m,\u001b[0m \u001b[1;34m'deaths_upper'\u001b[0m\u001b[1;33m]\u001b[0m\u001b[1;33m\u001b[0m\u001b[1;33m\u001b[0m\u001b[0m\n\u001b[1;32m----> 2\u001b[1;33m \u001b[0mdf_proj\u001b[0m\u001b[1;33m.\u001b[0m\u001b[0mdrop\u001b[0m\u001b[1;33m(\u001b[0m\u001b[0mdrop_columns\u001b[0m\u001b[1;33m,\u001b[0m\u001b[0maxis\u001b[0m\u001b[1;33m=\u001b[0m\u001b[1;36m1\u001b[0m\u001b[1;33m,\u001b[0m \u001b[0minplace\u001b[0m\u001b[1;33m=\u001b[0m\u001b[1;32mTrue\u001b[0m\u001b[1;33m)\u001b[0m\u001b[1;33m\u001b[0m\u001b[1;33m\u001b[0m\u001b[0m\n\u001b[0m",
      "\u001b[1;31mNameError\u001b[0m: name 'df_proj' is not defined"
     ]
    }
   ],
   "source": [
    "#Drop all unnecessary columns\n",
    "drop_columns=['deaths_midlower','deaths_lower', 'deaths_upper']\n",
    "df_proj.drop(drop_columns,axis=1, inplace=True)\n",
    "\n",
    "\n",
    "#Remove values that are clost to 0 but negative\n",
    "df_proj.min()\n",
    "df_proj[df_proj<0]=0\n",
    "\n",
    "#Finding missing values\n",
    "print(df.isnull().sum())"
   ]
  },
  {
   "cell_type": "markdown",
   "metadata": {},
   "source": [
    "## Answer Questions"
   ]
  },
  {
   "cell_type": "markdown",
   "metadata": {},
   "source": [
    "Analyze"
   ]
  },
  {
   "cell_type": "code",
   "execution_count": null,
   "metadata": {},
   "outputs": [],
   "source": [
    "df_grouped=df_proj.groupby('date').agg(['sum'])\n",
    "df_daily=df_grouped.reset_index()"
   ]
  },
  {
   "cell_type": "markdown",
   "metadata": {},
   "source": [
    "Model"
   ]
  },
  {
   "cell_type": "markdown",
   "metadata": {},
   "source": [
    "The model assumes IHME projections of death rate and constant relationship to death rate"
   ]
  },
  {
   "cell_type": "code",
   "execution_count": null,
   "metadata": {},
   "outputs": [],
   "source": [
    "Visualize"
   ]
  },
  {
   "cell_type": "markdown",
   "metadata": {},
   "source": [
    "1.What will the US hydroxychloroquine needs be? "
   ]
  },
  {
   "cell_type": "code",
   "execution_count": 12,
   "metadata": {},
   "outputs": [
    {
     "ename": "NameError",
     "evalue": "name 'df_daily' is not defined",
     "output_type": "error",
     "traceback": [
      "\u001b[1;31m---------------------------------------------------------------------------\u001b[0m",
      "\u001b[1;31mNameError\u001b[0m                                 Traceback (most recent call last)",
      "\u001b[1;32m<ipython-input-12-6608492492e4>\u001b[0m in \u001b[0;36m<module>\u001b[1;34m\u001b[0m\n\u001b[0;32m      8\u001b[0m \u001b[1;33m\u001b[0m\u001b[0m\n\u001b[0;32m      9\u001b[0m \u001b[1;33m\u001b[0m\u001b[0m\n\u001b[1;32m---> 10\u001b[1;33m \u001b[0mgraph_ouput\u001b[0m\u001b[1;33m(\u001b[0m\u001b[1;34m'Projected US New Daily Infections (IHME)'\u001b[0m\u001b[1;33m,\u001b[0m\u001b[0mdf_daily\u001b[0m\u001b[1;33m,\u001b[0m\u001b[0mdf_daily\u001b[0m\u001b[1;33m)\u001b[0m\u001b[1;33m\u001b[0m\u001b[1;33m\u001b[0m\u001b[0m\n\u001b[0m\u001b[0;32m     11\u001b[0m '''  \n\u001b[0;32m     12\u001b[0m \u001b[1;31m# US Day by Day Projected Infections IHME\u001b[0m\u001b[1;33m\u001b[0m\u001b[1;33m\u001b[0m\u001b[1;33m\u001b[0m\u001b[0m\n",
      "\u001b[1;31mNameError\u001b[0m: name 'df_daily' is not defined"
     ]
    }
   ],
   "source": [
    "def graph_output(title,x,y):\n",
    "    '''Plot respective graph with title and x,y coordinates'''\n",
    "    fig,ax=plt.subplots()\n",
    "    plt.title(title)\n",
    "    ax.get_yaxis().set_major_formatter(plt.FuncFormatter(lambda x, loc: \"{:,}\".format(int(x))))\n",
    "    plt.xticks(rotation=45)\n",
    "    plt.plot(x, y,'r--',)\n",
    "\n",
    "# Plot US Day by Day Projected Infections IHME\n",
    "graph_output('Projected US New Daily Infections (IHME)',df_daily.date,df_daily.projected_infections)\n",
    "\n",
    "# Create 5 Day Treatment Window using 400mg per day\n",
    "df_proj['5day_infected_HQregimen_patients']=df_proj.projected_infections.rolling(5,min_periods=1).agg(['sum'])\n",
    "dfAggByDate=df_proj.groupby(\"date\")['5day_infected_HQregimen_patients'].agg('sum')\n",
    "dfwithHQPills=pd.DataFrame({'cases':dfAggByDate,'HQ_Pills':dfAggByDate.values*2})\n",
    "\n",
    "# Assuming 5-day treatment plan how many patients would be subject to a HCQ regimen if prescribed to all patients\n",
    "graph_output('Rolling 5 Day Window of US Patients',dfAggByDate.index,dfwithHQPills.cases)\n",
    "\n",
    "# Plot Hydroxychloroquine Daily Usage if prescribed to all patients and assuming medium level projected IHME infection curve\n",
    "graph_output('HCQ US Daily Pill Projected Need',dfAggByDate.index,dfwithHQPills.HQ_Pills)\n",
    "\n",
    "# Plot Total Number of Pills Needed\n",
    "cumulative_pills=dfwithHQPills.HQ_Pills.cumsum().tail(120)\n",
    "graph_output('HCQ US Cumulative Pill Projected Need',dfAggByDate.tail(120).index,cumulative_pills.values)\n",
    "\n",
    "# Cumulative Pills Needed\n",
    "total_pills=dfwithHQPills.HQ_Pills.cumsum().tail(1)"
   ]
  },
  {
   "cell_type": "markdown",
   "metadata": {},
   "source": [
    "Evaluate"
   ]
  },
  {
   "cell_type": "markdown",
   "metadata": {},
   "source": [
    "2.What is the supply? "
   ]
  },
  {
   "cell_type": "code",
   "execution_count": null,
   "metadata": {},
   "outputs": [],
   "source": [
    "#Found from a variety of external sources it is >40M\n",
    "#Teva shipped 6M by Mar 31 and plans additional 10M by end of April\n",
    "#Sandoz (Novartis) 30M shipping from Mar.30\n",
    "#Mylan has started production in W.Virginia and is planning imports from overseas\n",
    "#Bayer 3M tablets of chloroquine phosphate. That is not HCQ but can be potentially used as a substitute after additional FDA approval"
   ]
  },
  {
   "cell_type": "markdown",
   "metadata": {},
   "source": [
    "3.What will it cost?"
   ]
  },
  {
   "cell_type": "code",
   "execution_count": null,
   "metadata": {},
   "outputs": [],
   "source": [
    "# Cost Calc. *ignoring donations* and assume 4x developing world cost\n",
    "total_price=.04*4*total_pills"
   ]
  }
 ],
 "metadata": {
  "kernelspec": {
   "display_name": "Python 3",
   "language": "python",
   "name": "python3"
  },
  "language_info": {
   "codemirror_mode": {
    "name": "ipython",
    "version": 3
   },
   "file_extension": ".py",
   "mimetype": "text/x-python",
   "name": "python",
   "nbconvert_exporter": "python",
   "pygments_lexer": "ipython3",
   "version": "3.7.6"
  }
 },
 "nbformat": 4,
 "nbformat_minor": 4
}
